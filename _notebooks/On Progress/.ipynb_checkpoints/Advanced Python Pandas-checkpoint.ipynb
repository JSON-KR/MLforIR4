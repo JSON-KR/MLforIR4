{
 "cells": [
  {
   "cell_type": "markdown",
   "metadata": {},
   "source": [
    "# Assignment 3 - More Pandas\n",
    "This assignment requires more individual learning then the last one did - you are encouraged to check out the [pandas documentation](http://pandas.pydata.org/pandas-docs/stable/) to find functions or methods you might not have used yet, or ask questions on [Stack Overflow](http://stackoverflow.com/) and tag them as pandas and python related. And of course, the discussion forums are open for interaction with your peers and the course staff."
   ]
  },
  {
   "cell_type": "markdown",
   "metadata": {},
   "source": [
    "### Question 1 (20%)\n",
    "Load the energy data from the file `Energy Indicators.xls`, which is a list of indicators of [energy supply and renewable electricity production](Energy%20Indicators.xls) from the [United Nations](http://unstats.un.org/unsd/environment/excel_file_tables/2013/Energy%20Indicators.xls) for the year 2013, and should be put into a DataFrame with the variable name of **energy**.\n",
    "\n",
    "Keep in mind that this is an Excel file, and not a comma separated values file. Also, make sure to exclude the footer and header information from the datafile. The first two columns are unneccessary, so you should get rid of them, and you should change the column labels so that the columns are:\n",
    "\n",
    "`['Country', 'Energy Supply', 'Energy Supply per Capita', '% Renewable']`\n",
    "\n",
    "Convert `Energy Supply` to gigajoules (there are 1,000,000 gigajoules in a petajoule). For all countries which have missing data (e.g. data with \"...\") make sure this is reflected as `np.NaN` values.\n",
    "\n",
    "Rename the following list of countries (for use in later questions):\n",
    "\n",
    "```\"Republic of Korea\": \"South Korea\",\n",
    "\"United States of America\": \"United States\",\n",
    "\"United Kingdom of Great Britain and Northern Ireland\": \"United Kingdom\",\n",
    "\"China, Hong Kong Special Administrative Region\": \"Hong Kong\"```\n",
    "\n",
    "There are also several countries with numbers and/or parenthesis in their name. Be sure to remove these, \n",
    "\n",
    "e.g. \n",
    "\n",
    "`'Bolivia (Plurinational State of)'` should be `'Bolivia'`, \n",
    "\n",
    "`'Switzerland17'` should be `'Switzerland'`.\n",
    "\n",
    "<br>\n",
    "\n",
    "Next, load the GDP data from the file `world_bank.csv`, which is a csv containing countries' GDP from 1960 to 2015 from [World Bank](http://data.worldbank.org/indicator/NY.GDP.MKTP.CD). Call this DataFrame **GDP**. \n",
    "\n",
    "Make sure to skip the header, and rename the following list of countries:\n",
    "\n",
    "```\"Korea, Rep.\": \"South Korea\", \n",
    "\"Iran, Islamic Rep.\": \"Iran\",\n",
    "\"Hong Kong SAR, China\": \"Hong Kong\"```\n",
    "\n",
    "<br>\n",
    "\n",
    "Finally, load the [Sciamgo Journal and Country Rank data for Energy Engineering and Power Technology](http://www.scimagojr.com/countryrank.php?category=2102) from the file `scimagojr-3.xlsx`, which ranks countries based on their journal contributions in the aforementioned area. Call this DataFrame **ScimEn**.\n",
    "\n",
    "Join the three datasets: GDP, Energy, and ScimEn into a new dataset (using the intersection of country names). Use only the last 10 years (2006-2015) of GDP data and only the top 15 countries by Scimagojr 'Rank' (Rank 1 through 15). \n",
    "\n",
    "The index of this DataFrame should be the name of the country, and the columns should be ['Rank', 'Documents', 'Citable documents', 'Citations', 'Self-citations',\n",
    "       'Citations per document', 'H index', 'Energy Supply',\n",
    "       'Energy Supply per Capita', '% Renewable', '2006', '2007', '2008',\n",
    "       '2009', '2010', '2011', '2012', '2013', '2014', '2015'].\n",
    "\n",
    "*This function should return a DataFrame with 20 columns and 15 entries.*"
   ]
  },
  {
   "cell_type": "code",
   "execution_count": null,
   "metadata": {
    "umich_part_id": "009",
    "umich_partlist_id": "003"
   },
   "outputs": [],
   "source": [
    "import numpy as np\n",
    "import pandas as pd \n",
    "def answer_one():\n",
    "    def country_name_change(df, colname, list_before, list_after):\n",
    "        name_list = list(zip(list_before, list_after))\n",
    "        for country_before, country_after in name_list:\n",
    "            get_id = df[df[colname]==country_before].index\n",
    "            df.loc[get_id, colname] = country_after\n",
    "        return df\n",
    "    \n",
    "    list_country_before = [\"Republic of Korea\",\n",
    "                       \"United States of America\",\n",
    "                       \"United Kingdom of Great Britain and Northern Ireland\",\n",
    "                       \"China, Hong Kong Special Administrative Region\",\n",
    "                       \"Iran \"]\n",
    "    list_country_after = [\"South Korea\",\n",
    "                      \"United States\",\n",
    "                      \"United Kingdom\",\n",
    "                      \"Hong Kong\",\n",
    "                      \"Iran\"]\n",
    "    energy = pd.read_excel('Energy Indicators.xls')\n",
    "    energy = energy.iloc[16:243,2:6]\n",
    "    energy.rename(columns={'Environmental Indicators: Energy':'Country','Unnamed: 3':'Energy Supply', 'Unnamed: 4':'Energy Supply per Capita', 'Unnamed: 5':'% Renewable'},inplace=True)\n",
    "    energy.replace('...',np.NaN,inplace=True)\n",
    "    energy['Energy Supply'] *= 10**6\n",
    "\n",
    "    name_before = []\n",
    "    name_after = []\n",
    "    for country in energy['Country'].values:\n",
    "        for letter in country:\n",
    "            if letter == '(':\n",
    "                name_before.append(country)\n",
    "                name_after.append(country.split('(')[0])\n",
    "                break\n",
    "            elif letter.isdigit():\n",
    "                name_before.append(country)\n",
    "                name_after.append(country.split(letter)[0])\n",
    "                break\n",
    "\n",
    "    country_name_change(energy, 'Country', name_before, name_after)\n",
    "    country_name_change(energy, 'Country', list_country_before, list_country_after)\n",
    "\n",
    "    GDP = pd.read_csv('world_bank.csv',\n",
    "                  skiprows=4,\n",
    "                  na_values='...')\n",
    "    list_country_before2 = [\"Korea, Rep.\",\n",
    "                       \"Iran, Islamic Rep.\",\n",
    "                       \"Hong Kong SAR, China\"]\n",
    "    list_country_after2 = [\"South Korea\",\n",
    "                      \"Iran\",\n",
    "                      \"Hong Kong\"]\n",
    "    country_name_change(GDP, 'Country Name', list_country_before2, list_country_after2)\n",
    "\n",
    "\n",
    "    ScimEn =pd.read_excel('scimagojr-3.xlsx', na_values='...')\n",
    "\n",
    "    years = (np.arange(2006,2016).astype(str)\n",
    "                             .tolist())\n",
    "    years.append('Country Name')\n",
    "    GDP = GDP[years].set_index(['Country Name'])\n",
    "\n",
    "    ScimEn = (ScimEn.where(ScimEn['Rank'] <= 15)\n",
    "                .dropna()\n",
    "                .set_index(['Country']))\n",
    "    energy = energy.set_index('Country')\n",
    "\n",
    "    df_merged = pd.merge(ScimEn, energy, how='inner',\n",
    "                            left_index=True, right_index=True)\n",
    "    df_merged = df_merged.merge(GDP, how='inner',\n",
    "                     left_index=True, right_index=True)\n",
    "\n",
    "    return df_merged\n",
    "answer_one()\n"
   ]
  },
  {
   "cell_type": "markdown",
   "metadata": {},
   "source": [
    "### Question 2 (6.6%)\n",
    "The previous question joined three datasets then reduced this to just the top 15 entries. When you joined the datasets, but before you reduced this to the top 15 items, how many entries did you lose?\n",
    "\n",
    "*This function should return a single number.*"
   ]
  },
  {
   "cell_type": "code",
   "execution_count": null,
   "metadata": {
    "umich_part_id": "010",
    "umich_partlist_id": "003"
   },
   "outputs": [],
   "source": [
    "def answer_two():\n",
    "    def country_name_change(df, colname, list_before, list_after):\n",
    "        name_list = list(zip(list_before, list_after))\n",
    "        for country_before, country_after in name_list:\n",
    "            get_id = df[df[colname]==country_before].index\n",
    "            df.loc[get_id, colname] = country_after\n",
    "        return df\n",
    "    \n",
    "    list_country_before = [\"Republic of Korea\",\n",
    "                       \"United States of America\",\n",
    "                       \"United Kingdom of Great Britain and Northern Ireland\",\n",
    "                       \"China, Hong Kong Special Administrative Region\",\n",
    "                       \"Iran \"]\n",
    "    list_country_after = [\"South Korea\",\n",
    "                      \"United States\",\n",
    "                      \"United Kingdom\",\n",
    "                      \"Hong Kong\",\n",
    "                      \"Iran\"]\n",
    "    energy = pd.read_excel('Energy Indicators.xls')\n",
    "    energy = energy.iloc[16:243,2:6]\n",
    "    energy.rename(columns={'Environmental Indicators: Energy':'Country','Unnamed: 3':'Energy Supply', 'Unnamed: 4':'Energy Supply per Capita', 'Unnamed: 5':'% Renewable'},inplace=True)\n",
    "    energy.replace('...',np.NaN,inplace=True)\n",
    "    energy['Energy Supply'] *= 10**6\n",
    "\n",
    "    name_before = []\n",
    "    name_after = []\n",
    "    for country in energy['Country'].values:\n",
    "        for letter in country:\n",
    "            if letter == '(':\n",
    "                name_before.append(country)\n",
    "                name_after.append(country.split('(')[0])\n",
    "                break\n",
    "            elif letter.isdigit():\n",
    "                name_before.append(country)\n",
    "                name_after.append(country.split(letter)[0])\n",
    "                break\n",
    "\n",
    "    country_name_change(energy, 'Country', name_before, name_after)\n",
    "    country_name_change(energy, 'Country', list_country_before, list_country_after)\n",
    "\n",
    "    GDP = pd.read_csv('world_bank.csv',\n",
    "                  skiprows=4,\n",
    "                  na_values='...')\n",
    "    list_country_before2 = [\"Korea, Rep.\",\n",
    "                       \"Iran, Islamic Rep.\",\n",
    "                       \"Hong Kong SAR, China\"]\n",
    "    list_country_after2 = [\"South Korea\",\n",
    "                      \"Iran\",\n",
    "                      \"Hong Kong\"]\n",
    "    country_name_change(GDP, 'Country Name', list_country_before2, list_country_after2)\n",
    "\n",
    "\n",
    "    ScimEn =pd.read_excel('scimagojr-3.xlsx', na_values='...')\n",
    "\n",
    "    years = (np.arange(2006,2016).astype(str)\n",
    "                             .tolist())\n",
    "    years.append('Country')\n",
    "\n",
    "    GDP.rename(columns={'Country Name':'Country'},inplace=True)\n",
    "    GDP = GDP[years].set_index(['Country'])\n",
    "\n",
    "\n",
    "    ScimEn = (ScimEn.dropna()\n",
    "                .set_index(['Country']))\n",
    "    energy = energy.set_index('Country')\n",
    "    \n",
    "\n",
    "    df_merged = pd.merge(ScimEn, energy, how='inner',\n",
    "                            left_index=True, right_index=True)\n",
    "    df_merged = df_merged.merge(GDP, how='inner',\n",
    "                     left_index=True, right_index=True)\n",
    "\n",
    "    df_merged2 = pd.merge(ScimEn, energy, how='outer',\n",
    "                            left_index=True, right_index=True)\n",
    "    df_merged2 = df_merged2.merge(GDP, how='outer',\n",
    "                     left_index=True, right_index=True)\n",
    "    num = df_merged2.shape[0] - 15\n",
    "    return num\n",
    "answer_two()"
   ]
  },
  {
   "cell_type": "markdown",
   "metadata": {},
   "source": [
    "## Answer the following questions in the context of only the top 15 countries by Scimagojr Rank (aka the DataFrame returned by `answer_one()`)"
   ]
  },
  {
   "cell_type": "markdown",
   "metadata": {},
   "source": [
    "### Question 3 (6.6%)\n",
    "What is the average GDP over the last 10 years for each country? (exclude missing values from this calculation.)\n",
    "\n",
    "*This function should return a Series named `avgGDP` with 15 countries and their average GDP sorted in descending order.*"
   ]
  },
  {
   "cell_type": "code",
   "execution_count": null,
   "metadata": {
    "scrolled": true,
    "umich_part_id": "011",
    "umich_partlist_id": "003"
   },
   "outputs": [],
   "source": [
    "def answer_three():\n",
    "    years = np.arange(2006,2016).astype(str).tolist()\n",
    "    Top15 = answer_one().copy()\n",
    "    avgGDP = Top15[years].mean(axis=1).sort_values(ascending=False)\n",
    "    return avgGDP\n",
    "\n",
    "answer_three()"
   ]
  },
  {
   "cell_type": "markdown",
   "metadata": {},
   "source": [
    "### Question 4 (6.6%)\n",
    "By how much had the GDP changed over the 10 year span for the country with the 6th largest average GDP?\n",
    "\n",
    "*This function should return a single number.*"
   ]
  },
  {
   "cell_type": "code",
   "execution_count": null,
   "metadata": {
    "scrolled": true,
    "umich_part_id": "012",
    "umich_partlist_id": "003"
   },
   "outputs": [],
   "source": [
    "def answer_four():\n",
    "    years = np.arange(2006,2016).astype(str).tolist()\n",
    "    Top15 = answer_one().copy()[years]\n",
    "    avgGDP = Top15[years].mean(axis=1).sort_values(ascending=False)\n",
    "\n",
    "    sixth_country = avgGDP.index[5]\n",
    "    print(Top15.loc[sixth_country])\n",
    "\n",
    "    GDP_CHANGE = Top15.loc[sixth_country][years][9]-Top15.loc[sixth_country][years][0]\n",
    "    return GDP_CHANGE\n",
    "answer_four()"
   ]
  },
  {
   "cell_type": "markdown",
   "metadata": {},
   "source": [
    "### Question 5 (6.6%)\n",
    "What is the mean `Energy Supply per Capita`?\n",
    "\n",
    "*This function should return a single number.*"
   ]
  },
  {
   "cell_type": "code",
   "execution_count": null,
   "metadata": {
    "umich_part_id": "013",
    "umich_partlist_id": "003"
   },
   "outputs": [],
   "source": [
    "def answer_five():\n",
    "    Top15 = answer_one()\n",
    "    \n",
    "    ESmean = Top15['Energy Supply per Capita'].mean()\n",
    "    return ESmean\n",
    "answer_five()"
   ]
  },
  {
   "cell_type": "markdown",
   "metadata": {},
   "source": [
    "### Question 6 (6.6%)\n",
    "What country has the maximum % Renewable and what is the percentage?\n",
    "\n",
    "*This function should return a tuple with the name of the country and the percentage.*"
   ]
  },
  {
   "cell_type": "code",
   "execution_count": null,
   "metadata": {
    "umich_part_id": "014",
    "umich_partlist_id": "003"
   },
   "outputs": [],
   "source": [
    "def answer_six():\n",
    "    Top15 = answer_one()\n",
    "    ans6_country = Top15['% Renewable'].idxmax()\n",
    "    ans6_percentage = Top15.loc[ans6_country]['% Renewable']\n",
    "    ans6 = (ans6_country, ans6_percentage)\n",
    "    return ans6\n",
    "answer_six()"
   ]
  },
  {
   "cell_type": "markdown",
   "metadata": {},
   "source": [
    "### Question 7 (6.6%)\n",
    "Create a new column that is the ratio of Self-Citations to Total Citations. \n",
    "What is the maximum value for this new column, and what country has the highest ratio?\n",
    "\n",
    "*This function should return a tuple with the name of the country and the ratio.*"
   ]
  },
  {
   "cell_type": "code",
   "execution_count": null,
   "metadata": {
    "umich_part_id": "015",
    "umich_partlist_id": "003"
   },
   "outputs": [],
   "source": [
    "def answer_seven():\n",
    "    Top15 = answer_one()\n",
    "    new_column = Top15['Self-citations']/Top15['Citations']\n",
    "    ans7_country = new_column.idxmax()\n",
    "    ans7_ratio = new_column.max()\n",
    "    ans7 = (ans7_country, ans7_ratio)\n",
    "    return ans7\n",
    "answer_seven()"
   ]
  },
  {
   "cell_type": "markdown",
   "metadata": {},
   "source": [
    "### Question 8 (6.6%)\n",
    "\n",
    "Create a column that estimates the population using Energy Supply and Energy Supply per capita. \n",
    "What is the third most populous country according to this estimate?\n",
    "\n",
    "*This function should return a single string value.*"
   ]
  },
  {
   "cell_type": "code",
   "execution_count": null,
   "metadata": {
    "umich_part_id": "016",
    "umich_partlist_id": "003"
   },
   "outputs": [],
   "source": [
    "def answer_eight():\n",
    "    Top15 = answer_one().copy()\n",
    "    new_column = Top15['Energy Supply']/Top15['Energy Supply per Capita']\n",
    "    ans8 = new_column.sort_values(ascending=False).index[2]\n",
    "    return ans8\n",
    "answer_eight()"
   ]
  },
  {
   "cell_type": "markdown",
   "metadata": {},
   "source": [
    "### Question 9 (6.6%)\n",
    "Create a column that estimates the number of citable documents per person. \n",
    "What is the correlation between the number of citable documents per capita and the energy supply per capita? Use the `.corr()` method, (Pearson's correlation).\n",
    "\n",
    "*This function should return a single number.*\n",
    "\n",
    "*(Optional: Use the built-in function `plot9()` to visualize the relationship between Energy Supply per Capita vs. Citable docs per Capita)*"
   ]
  },
  {
   "cell_type": "code",
   "execution_count": null,
   "metadata": {
    "umich_part_id": "017",
    "umich_partlist_id": "003"
   },
   "outputs": [],
   "source": [
    "def answer_nine():\n",
    "    Top15 = answer_one().copy()\n",
    "    new_column = Top15['Citable documents']/Top15['Energy Supply']*Top15['Energy Supply per Capita']\n",
    "    ans9 = new_column.corr(Top15['Energy Supply per Capita'])\n",
    "    return ans9\n",
    "answer_nine()\n"
   ]
  },
  {
   "cell_type": "code",
   "execution_count": null,
   "metadata": {
    "collapsed": true
   },
   "outputs": [],
   "source": [
    "def plot9():\n",
    "    import matplotlib as plt\n",
    "    %matplotlib inline\n",
    "    \n",
    "    Top15 = answer_one()\n",
    "    Top15['PopEst'] = Top15['Energy Supply'] / Top15['Energy Supply per Capita']\n",
    "    Top15['Citable docs per Capita'] = Top15['Citable documents'] / Top15['PopEst']\n",
    "    Top15.plot(x='Citable docs per Capita', y='Energy Supply per Capita', kind='scatter', xlim=[0, 0.0006])\n",
    "\n",
    "#plot9()"
   ]
  },
  {
   "cell_type": "code",
   "execution_count": null,
   "metadata": {
    "collapsed": true
   },
   "outputs": [],
   "source": [
    "#plot9() # Be sure to comment out plot9() before submitting the assignment!"
   ]
  },
  {
   "cell_type": "markdown",
   "metadata": {},
   "source": [
    "### Question 10 (6.6%)\n",
    "Create a new column with a 1 if the country's % Renewable value is at or above the median for all countries in the top 15, and a 0 if the country's % Renewable value is below the median.\n",
    "\n",
    "*This function should return a series named `HighRenew` whose index is the country name sorted in ascending order of rank.*"
   ]
  },
  {
   "cell_type": "code",
   "execution_count": null,
   "metadata": {
    "scrolled": true,
    "umich_part_id": "018",
    "umich_partlist_id": "003"
   },
   "outputs": [],
   "source": [
    "def answer_ten():\n",
    "    Top15 = answer_one().copy().sort_values('Rank', ascending=True)\n",
    "    mean_percentage =Top15['% Renewable'].mean()\n",
    "    HighRenew= Top15['% Renewable']\n",
    "    Top15[Top15['% Renewable'] < mean_percentage] = 0\n",
    "    Top15[Top15['% Renewable'] >= mean_percentage] = 1\n",
    "\n",
    "    return HighRenew\n",
    "\n",
    "answer_ten()"
   ]
  },
  {
   "cell_type": "markdown",
   "metadata": {},
   "source": [
    "### Question 11 (6.6%)\n",
    "Use the following dictionary to group the Countries by Continent, then create a dateframe that displays the sample size (the number of countries in each continent bin), and the sum, mean, and std deviation for the estimated population of each country.\n",
    "\n",
    "```python\n",
    "ContinentDict  = {'China':'Asia', \n",
    "                  'United States':'North America', \n",
    "                  'Japan':'Asia', \n",
    "                  'United Kingdom':'Europe', \n",
    "                  'Russian Federation':'Europe', \n",
    "                  'Canada':'North America', \n",
    "                  'Germany':'Europe', \n",
    "                  'India':'Asia',\n",
    "                  'France':'Europe', \n",
    "                  'South Korea':'Asia', \n",
    "                  'Italy':'Europe', \n",
    "                  'Spain':'Europe', \n",
    "                  'Iran':'Asia',\n",
    "                  'Australia':'Australia', \n",
    "                  'Brazil':'South America'}\n",
    "```\n",
    "\n",
    "*This function should return a DataFrame with index named Continent `['Asia', 'Australia', 'Europe', 'North America', 'South America']` and columns `['size', 'sum', 'mean', 'std']`*"
   ]
  },
  {
   "cell_type": "code",
   "execution_count": null,
   "metadata": {
    "umich_part_id": "019",
    "umich_partlist_id": "003"
   },
   "outputs": [],
   "source": [
    "def answer_eleven():\n",
    "    ContinentDict  = {'China':'Asia', \n",
    "                  'United States':'North America', \n",
    "                  'Japan':'Asia', \n",
    "                  'United Kingdom':'Europe', \n",
    "                  'Russian Federation':'Europe', \n",
    "                  'Canada':'North America', \n",
    "                  'Germany':'Europe', \n",
    "                  'India':'Asia',\n",
    "                  'France':'Europe', \n",
    "                  'South Korea':'Asia', \n",
    "                  'Italy':'Europe', \n",
    "                  'Spain':'Europe', \n",
    "                  'Iran':'Asia',\n",
    "                  'Australia':'Australia', \n",
    "                  'Brazil':'South America'}\n",
    "    Top15 = answer_one().copy()\n",
    "    Top15['Estimated Population'] = Top15['Energy Supply']/Top15['Energy Supply per Capita']\n",
    "    \n",
    "    df = pd.DataFrame.from_dict(ContinentDict, orient='index').rename(columns={0:'Continent'})\n",
    "    df = pd.merge(Top15, df, left_index=True, right_index=True)\n",
    "\n",
    "    df = df.pivot_table(index='Continent',values='Estimated Population', aggfunc= [np.size, np.sum,np.mean, np.std])\n",
    "\n",
    "   \n",
    "   \n",
    "    return df\n",
    "\n",
    "answer_eleven()"
   ]
  },
  {
   "cell_type": "markdown",
   "metadata": {},
   "source": [
    "### Question 12 (6.6%)\n",
    "Cut % Renewable into 5 bins. Group Top15 by the Continent, as well as these new % Renewable bins. How many countries are in each of these groups?\n",
    "\n",
    "*This function should return a __Series__ with a MultiIndex of `Continent`, then the bins for `% Renewable`. Do not include groups with no countries.*"
   ]
  },
  {
   "cell_type": "code",
   "execution_count": null,
   "metadata": {
    "scrolled": true
   },
   "outputs": [],
   "source": [
    "def answer_twelve():\n",
    "    ContinentDict  = {'China':'Asia', \n",
    "                  'United States':'North America', \n",
    "                  'Japan':'Asia', \n",
    "                  'United Kingdom':'Europe', \n",
    "                  'Russian Federation':'Europe', \n",
    "                  'Canada':'North America', \n",
    "                  'Germany':'Europe', \n",
    "                  'India':'Asia',\n",
    "                  'France':'Europe', \n",
    "                  'South Korea':'Asia', \n",
    "                  'Italy':'Europe', \n",
    "                  'Spain':'Europe', \n",
    "                  'Iran':'Asia',\n",
    "                  'Australia':'Australia', \n",
    "                  'Brazil':'South America'}\n",
    "    Top15 = answer_one().copy()\n",
    "    df_cont = pd.DataFrame.from_dict(ContinentDict, orient='index').rename(columns={0:'Continent'})\n",
    "    df_merge = pd.merge(Top15,df_cont,left_index=True,right_index=True)\n",
    "    series_bin = pd.cut(df_merge['% Renewable'],5)\n",
    "    df_merge[''] = series_bin\n",
    "    ans = df_merge.pivot_table(index='Continent',values = '% Renewable', columns='', aggfunc=np.size, dropna=True)\n",
    "    ans = ans.dropna(axis=1,how='all')\n",
    "    return ans\n",
    "\n",
    "answer_twelve()"
   ]
  }
 ],
 "metadata": {
  "anaconda-cloud": {},
  "coursera": {
   "course_slug": "python-data-analysis",
   "graded_item_id": "zAr06",
   "launcher_item_id": "KSSjT",
   "part_id": "SL3fU"
  },
  "kernelspec": {
   "display_name": "Python 3",
   "language": "python",
   "name": "python3"
  },
  "language_info": {
   "codemirror_mode": {
    "name": "ipython",
    "version": 3
   },
   "file_extension": ".py",
   "mimetype": "text/x-python",
   "name": "python",
   "nbconvert_exporter": "python",
   "pygments_lexer": "ipython3",
   "version": "3.7.7"
  },
  "umich": {
   "id": "Assignment 3",
   "version": "1.5"
  }
 },
 "nbformat": 4,
 "nbformat_minor": 1
}
