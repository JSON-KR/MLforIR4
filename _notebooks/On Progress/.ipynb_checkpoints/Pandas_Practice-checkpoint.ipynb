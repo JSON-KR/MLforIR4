{
 "cells": [
  {
   "cell_type": "markdown",
   "metadata": {},
   "source": [
    "# 실제 데이터로 한번 연습해보자! \n",
    "### 문제 1\n",
    "1. `Energy Indicators.xls` 에서 데이터 (2013년의 에너지 공급과 재생 전기 생산) 읽어서 energy라는 변수에 저장하기.\n",
    "   Column의 이름은 `['Country', 'Energy Supply', 'Energy Supply per Capita', '% Renewable']`\n",
    "\n",
    "2. Missing Data는 NaN (Not a Number)로 표시할것\n",
    "\n",
    "3. `Energy Supply`의 단위를 gigajoules로 바꾸기 (1,000,000 gigajours = 1 petajoule)\n",
    "\n",
    "4. 숫자/괄호가 포함된 나라이름들에서 이들을 제거하기\n",
    "\n",
    "e.g. \n",
    "\n",
    "`'Bolivia (Plurinational State of)'` -> `'Bolivia'`, \n",
    "\n",
    "`'Switzerland17'` -> `'Switzerland'`.\n",
    "\n",
    "5. 다음의 나라들의 이름을 다음과 같이 바꿀것\n",
    "\n",
    "```\"Republic of Korea\": \"South Korea\",\n",
    "\"United States of America\": \"United States\",\n",
    "\"United Kingdom of Great Britain and Northern Ireland\": \"United Kingdom\",\n",
    "\"China, Hong Kong Special Administrative Region\": \"Hong Kong\"```\n",
    "\n",
    "6. `world_bank.csv`에서 각 나라들의 1960~2015년의 GDP를 저장한 데이터를 읽어 들여 GDP라는 변수에 저장할것\n",
    "\n",
    "7. 다음 나라들의 이름을 바꿔줄것\n",
    "\n",
    "\n",
    "```\"Korea, Rep.\": \"South Korea\", \n",
    "\"Iran, Islamic Rep.\": \"Iran\",\n",
    "\"Hong Kong SAR, China\": \"Hong Kong\"```\n",
    "\n",
    "\n",
    "8.`scimagojr-3.xlsx`에서 데이터 ([Sciamgo Journal and Country Rank data for Energy Engineering and Power Technology]분야에서의 각 나라의 저널 공헌도)를 읽어들여서 ScimEn에 저장할것 \n",
    "\n",
    "9.GDP, Energy, ScimEn 이 세 데이터를 새로운 데이터 셋으로 합치고 (country name의 교집합을 이용하여), 2006-2015년의 GDP데이터와 ScimEn의 Top 15나라들만 데이터에 저장할것.\n",
    "\n",
    "(데이터 프레임의 인덱스는 국가 이름, 컬럼은 ['Rank', 'Documents', 'Citable documents', 'Citations', 'Self-citations',\n",
    "       'Citations per document', 'H index', 'Energy Supply',\n",
    "       'Energy Supply per Capita', '% Renewable', '2006', '2007', '2008',\n",
    "       '2009', '2010', '2011', '2012', '2013', '2014', '2015'].)\n"
   ]
  },
  {
   "cell_type": "code",
   "execution_count": 6,
   "metadata": {},
   "outputs": [],
   "source": [
    "import numpy as np\n",
    "import pandas as pd\n",
    "FilePath = './Data/'"
   ]
  },
  {
   "cell_type": "code",
   "execution_count": 7,
   "metadata": {},
   "outputs": [
    {
     "data": {
      "text/html": [
       "<div>\n",
       "<style scoped>\n",
       "    .dataframe tbody tr th:only-of-type {\n",
       "        vertical-align: middle;\n",
       "    }\n",
       "\n",
       "    .dataframe tbody tr th {\n",
       "        vertical-align: top;\n",
       "    }\n",
       "\n",
       "    .dataframe thead th {\n",
       "        text-align: right;\n",
       "    }\n",
       "</style>\n",
       "<table border=\"1\" class=\"dataframe\">\n",
       "  <thead>\n",
       "    <tr style=\"text-align: right;\">\n",
       "      <th></th>\n",
       "      <th>Country</th>\n",
       "      <th>Energy Supply</th>\n",
       "      <th>Energy Supply per Capita</th>\n",
       "      <th>% Renewable</th>\n",
       "    </tr>\n",
       "  </thead>\n",
       "  <tbody>\n",
       "    <tr>\n",
       "      <th>0</th>\n",
       "      <td>Afghanistan</td>\n",
       "      <td>321.0</td>\n",
       "      <td>10.0</td>\n",
       "      <td>78.669280</td>\n",
       "    </tr>\n",
       "    <tr>\n",
       "      <th>1</th>\n",
       "      <td>Albania</td>\n",
       "      <td>102.0</td>\n",
       "      <td>35.0</td>\n",
       "      <td>100.000000</td>\n",
       "    </tr>\n",
       "    <tr>\n",
       "      <th>2</th>\n",
       "      <td>Algeria</td>\n",
       "      <td>1959.0</td>\n",
       "      <td>51.0</td>\n",
       "      <td>0.551010</td>\n",
       "    </tr>\n",
       "    <tr>\n",
       "      <th>3</th>\n",
       "      <td>American Samoa</td>\n",
       "      <td>NaN</td>\n",
       "      <td>NaN</td>\n",
       "      <td>0.641026</td>\n",
       "    </tr>\n",
       "    <tr>\n",
       "      <th>4</th>\n",
       "      <td>Andorra</td>\n",
       "      <td>9.0</td>\n",
       "      <td>121.0</td>\n",
       "      <td>88.695650</td>\n",
       "    </tr>\n",
       "  </tbody>\n",
       "</table>\n",
       "</div>"
      ],
      "text/plain": [
       "          Country  Energy Supply  Energy Supply per Capita  % Renewable\n",
       "0     Afghanistan          321.0                      10.0    78.669280\n",
       "1         Albania          102.0                      35.0   100.000000\n",
       "2         Algeria         1959.0                      51.0     0.551010\n",
       "3  American Samoa            NaN                       NaN     0.641026\n",
       "4         Andorra            9.0                     121.0    88.695650"
      ]
     },
     "execution_count": 7,
     "metadata": {},
     "output_type": "execute_result"
    }
   ],
   "source": [
    "''' 1, 2 '''\n",
    "# 위에서 한 과정들은 다음과 같이 파일을 읽을때 전부 바로 처리가 가능\n",
    "energy = pd.read_excel(FilePath + 'Energy_Indicators.xls',\n",
    "                      usecols=np.arange(2,6),\n",
    "                      skiprows=17,\n",
    "                      nrows=227,\n",
    "                      na_values = '...',\n",
    "                      names=['Country', 'Energy Supply', 'Energy Supply per Capita', '% Renewable'])\n",
    "\n",
    "energy.head()"
   ]
  },
  {
   "cell_type": "code",
   "execution_count": null,
   "metadata": {},
   "outputs": [],
   "source": [
    "'''3'''\n",
    "# energy = energy * 10**6 을 아래처럼 적을수있음\n",
    "energy['Energy Supply'] *= 10**6"
   ]
  },
  {
   "cell_type": "code",
   "execution_count": null,
   "metadata": {},
   "outputs": [],
   "source": [
    "'''4'''\n",
    "# 먼저 이름 바꾸는 작업을 수행해줄 Function을 만들자\n",
    "def country_name_change(df, colname, list_before, list_after):\n",
    "    '''\n",
    "    df: 데이터 프레임\n",
    "    colname: 이름을 바꿀 Column의 이름\n",
    "    list_before: 바꾸기 전의 나라 이름들\n",
    "    list_after: 바꾸고 난 후의 나라 이름들\n",
    "    '''\n",
    "    \n",
    "    # zip을 해주는 이유! 각 List의 Value들을 짝지어서 for loop에 사용하기 위해\n",
    "    # e.g. list_a = [a,b,c], list_b = [A, B, C]\n",
    "    #   zip(list_a, list_b) -> [(a,A), (b,B), (c,C)]\n",
    "    name_list = zip(list_before, list_after)\n",
    "    \n",
    "    for country_before, country_after in name_list:\n",
    "        get_id = df[df[colname]==country_before].index  # 바꾸기 전의 나라 이름에 해당하는 row의 index를 받아옴\n",
    "        df.loc[get_id, colname] = country_after # 위에서 읽은 id에 해당하는 나라 이름을 바꾸기\n",
    "    return df\n",
    "\n"
   ]
  },
  {
   "cell_type": "code",
   "execution_count": null,
   "metadata": {},
   "outputs": [],
   "source": [
    "'''4 (cont.)'''\n",
    "# 먼저 빈 리스트 작성\n",
    "name_before = []\n",
    "name_after = []\n",
    "\n",
    "\n",
    "for country in energy['Country'].values: # 모든 Country Column의 Value들을 Return: 즉, 모든 나라 이름들\n",
    "    for letter in country: # 나라이름의 문자 하나하나 검토\n",
    "        if letter == '(': # 그 문자가 ( 괄호에 해당하면 리스트에 추가 하기\n",
    "            name_before.append(country)\n",
    "            name_after.append(country.split('(')[0]) # 그 나라의 문자열을 ( 를 기준으로 Split해서, 앞의 문자열들만 가져오기\n",
    "            break\n",
    "        elif letter.isdigit(): # 그 문자가 숫자라면 리스트에 추가 하기\n",
    "            name_before.append(country)\n",
    "            name_after.append(country.split(letter)[0])\n",
    "            break\n",
    "\n",
    "# 앞서 만든 Function으로 이름 Change\n",
    "country_name_change(energy, 'Country', name_before, name_after)"
   ]
  },
  {
   "cell_type": "code",
   "execution_count": null,
   "metadata": {},
   "outputs": [],
   "source": [
    "'''5'''\n",
    "print('바꾸기 전',energy[energy['Country'] == 'Republic of Korea'])\n",
    "list_country_before = [\"Republic of Korea\",\n",
    "                   \"United States of America\",\n",
    "                   \"United Kingdom of Great Britain and Northern Ireland\",\n",
    "                   \"China, Hong Kong Special Administrative Region\",\n",
    "                   \"Iran \"]\n",
    "list_country_after = [\"South Korea\",\n",
    "                  \"United States\",\n",
    "                  \"United Kingdom\",\n",
    "                  \"Hong Kong\",\n",
    "                  \"Iran\"]\n",
    "\n",
    "# 앞서 만든 Function으로 이름 Change\n",
    "country_name_change(energy, 'Country', list_country_before, list_country_after)\n",
    "print('바꾸고 난 후',energy[energy['Country'] == 'Republic of Korea'])\n",
    "print('요렇게 바뀜',energy[energy['Country'] == 'South Korea'])"
   ]
  },
  {
   "cell_type": "code",
   "execution_count": null,
   "metadata": {},
   "outputs": [],
   "source": [
    "'''6'''\n",
    "GDP = pd.read_csv(filepath+'world_bank.csv',\n",
    "              skiprows=4,\n",
    "              na_values='...')\n",
    "GDP.head()"
   ]
  },
  {
   "cell_type": "code",
   "execution_count": null,
   "metadata": {},
   "outputs": [],
   "source": [
    "'''7'''\n",
    "list_country_before2 = [\"Korea, Rep.\",\n",
    "                   \"Iran, Islamic Rep.\",\n",
    "                   \"Hong Kong SAR, China\"]\n",
    "list_country_after2 = [\"South Korea\",\n",
    "                  \"Iran\",\n",
    "                  \"Hong Kong\"]\n",
    "country_name_change(GDP, 'Country Name', list_country_before2, list_country_after2)"
   ]
  },
  {
   "cell_type": "code",
   "execution_count": null,
   "metadata": {},
   "outputs": [],
   "source": [
    "'''8'''\n",
    "ScimEn =pd.read_excel(filepath + 'scimagojr-3.xlsx', na_values='...')\n",
    "ScimEn.head(20)"
   ]
  },
  {
   "cell_type": "code",
   "execution_count": null,
   "metadata": {},
   "outputs": [],
   "source": [
    "'''9'''\n",
    "#2006 - 2015년도의 GDP만 사용. 우선 Column이름 부터 만들어내자\n",
    "years = (np.arange(2006,2016).astype(str)     # 2006 ~ 2015의 리스트를 np.arange로 만들어서, astype으로 정수형 데이터를 string으로\n",
    "                         .tolist())           # 그리고 이러한 데이터를 list로 저장하기 위해 tolist()\n",
    "years.append('Country Name')   # 그 리스트에 Country Name 이라는 컬럼이름을 추가\n",
    "# 방금 만들어낸 Column 이름들로 GDP 데이터 프레임에서 2006-2015년도의 데이터와 나라 이름을 가져오자\n",
    "GDP = GDP[years].set_index(['Country Name']) # 나라 이름을 index로 설정하자\n",
    "\n",
    "\n",
    "# 마찬가지로 ScimEn에서 Rank Top 15의 데이터만 가져오자\n",
    "ScimEn = (ScimEn.where(ScimEn['Rank'] <= 15)\n",
    "            .dropna()\n",
    "            .set_index(['Country'])) # 나라이름을 Index로\n",
    "\n",
    "# energy도 마찬가지로 나라이름을 index로\n",
    "energy = energy.set_index('Country')\n",
    "\n",
    "\n",
    "# GDP, energy, ScimEn 세 데이터 프레임을 공통된 index (나라이름)를 기준으로 합쳐줄거임\n",
    "df_merged = pd.merge(ScimEn, energy, how='inner',  # inner 는 교집합을 의미함\n",
    "                        left_index=True, right_index=True)  # 뭐를 기준으로 교집합을 정할지 -> index를 기준으로 하겠다\n",
    "df_merged = df_merged.merge(GDP, how='inner',\n",
    "                 left_index=True, right_index=True)\n",
    "\n",
    "ans1 = df_merged\n",
    "ans1"
   ]
  },
  {
   "cell_type": "markdown",
   "metadata": {},
   "source": [
    "### 문제 2\n",
    "지난 10년간 각 나라의 GDP 평균은 얼마냐? (missing value들은 계산에서 제외)"
   ]
  },
  {
   "cell_type": "code",
   "execution_count": null,
   "metadata": {
    "scrolled": true,
    "umich_part_id": "011",
    "umich_partlist_id": "003"
   },
   "outputs": [],
   "source": [
    "# Quiz! 왜 copy를 하는걸까?\n",
    "TOP15 = ans1.copy()\n",
    "\n",
    "years = np.arange(2006,2016).astype(str).tolist()\n",
    "avgGDP = TOP15[years].mean(axis=1).sort_values(ascending=False)\n",
    "\n",
    "avgGDP"
   ]
  },
  {
   "cell_type": "markdown",
   "metadata": {},
   "source": [
    "### 문제 3\n",
    "10년간의 GDP평균이 6번째로 큰 나라는 어디?\n",
    "그나라는 10년사이에 GDP가 얼마나 변했나?"
   ]
  },
  {
   "cell_type": "code",
   "execution_count": null,
   "metadata": {
    "scrolled": true,
    "umich_part_id": "012",
    "umich_partlist_id": "003"
   },
   "outputs": [],
   "source": [
    "sixth_country = avgGDP.index[5]\n",
    "print('여섯번째로 10년간 평균 GDP가 큰 나라는', sixth_country)\n",
    "\n",
    "GDP_CHANGE = TOP15.loc[sixth_country][years][-1]-TOP15.loc[sixth_country][years][0]\n",
    "GDP_CHANGE"
   ]
  },
  {
   "cell_type": "markdown",
   "metadata": {},
   "source": [
    "### 문제 4\n",
    "`Energy Supply per Capita` 의 평균은?"
   ]
  },
  {
   "cell_type": "code",
   "execution_count": null,
   "metadata": {
    "umich_part_id": "013",
    "umich_partlist_id": "003"
   },
   "outputs": [],
   "source": [
    "ESmean = TOP15['Energy Supply per Capita'].mean()\n",
    "ESmean"
   ]
  },
  {
   "cell_type": "markdown",
   "metadata": {},
   "source": [
    "### 문제 5\n",
    "어느 나라가 가장 큰 % Renewable을 가지고 있냐?\n",
    "그 나라의 % Renewable은 얼마냐?\n"
   ]
  },
  {
   "cell_type": "code",
   "execution_count": null,
   "metadata": {
    "umich_part_id": "014",
    "umich_partlist_id": "003"
   },
   "outputs": [],
   "source": [
    "country = TOP15['% Renewable'].idxmax()\n",
    "percentage = TOP15.loc['Brazil']['% Renewable']\n",
    "(country, percentage)"
   ]
  },
  {
   "cell_type": "markdown",
   "metadata": {},
   "source": [
    "### 문제 6\n",
    "사람당 Citable Documents를 추정하는 Column을 만들어라.\n",
    "사람당 Citable Documents와 사람당 Energy supply사이의 피어슨 상관계수는?\n"
   ]
  },
  {
   "cell_type": "code",
   "execution_count": null,
   "metadata": {
    "umich_part_id": "017",
    "umich_partlist_id": "003"
   },
   "outputs": [],
   "source": [
    "new_column = TOP15['Citable documents']/TOP15['Energy Supply']*TOP15['Energy Supply per Capita']\n",
    "corr = new_column.corr(TOP15['Energy Supply per Capita'])\n",
    "\n",
    "corr"
   ]
  },
  {
   "cell_type": "markdown",
   "metadata": {},
   "source": [
    "### 문제 7\n",
    "Top15의 국가중에 % Renewable 값이 평균 이상인 나라는 1, 아닌 나라는 0의 값을 주는 새로운 컬럼을 만들어라"
   ]
  },
  {
   "cell_type": "code",
   "execution_count": null,
   "metadata": {
    "scrolled": true,
    "umich_part_id": "018",
    "umich_partlist_id": "003"
   },
   "outputs": [],
   "source": [
    "mean_percentage =TOP15['% Renewable'].mean()\n",
    "HighRenew= TOP15['% Renewable']\n",
    "TOP15[TOP15['% Renewable'] < mean_percentage] = 0\n",
    "TOP15[TOP15['% Renewable'] >= mean_percentage] = 1\n",
    "\n",
    "HighRenew"
   ]
  },
  {
   "cell_type": "markdown",
   "metadata": {},
   "source": [
    "### 문제 8\n",
    "다음 Dictionary를 이용해 나라들을 대륙별로 묶어라.\n",
    "예측 인구수의 Column을 새로 만들고 (Estimated Population = Energy Supply/Energy Supply per capita),\n",
    "대륙별 나라의 수, 추정인구의 합계, 평균, 표준편차를 구하라 \n",
    "\n",
    "ContinentDict  = {'China':'Asia', \n",
    "                  'United States':'North America', \n",
    "                  'Japan':'Asia', \n",
    "                  'United Kingdom':'Europe', \n",
    "                  'Russian Federation':'Europe', \n",
    "                  'Canada':'North America', \n",
    "                  'Germany':'Europe', \n",
    "                  'India':'Asia',\n",
    "                  'France':'Europe', \n",
    "                  'South Korea':'Asia', \n",
    "                  'Italy':'Europe', \n",
    "                  'Spain':'Europe', \n",
    "                  'Iran':'Asia',\n",
    "                  'Australia':'Australia', \n",
    "                  'Brazil':'South America'}\n"
   ]
  },
  {
   "cell_type": "code",
   "execution_count": null,
   "metadata": {
    "umich_part_id": "019",
    "umich_partlist_id": "003"
   },
   "outputs": [],
   "source": [
    "TOP15 = ans1.copy()\n",
    "ContinentDict  = {'China':'Asia', \n",
    "              'United States':'North America', \n",
    "              'Japan':'Asia', \n",
    "              'United Kingdom':'Europe', \n",
    "              'Russian Federation':'Europe', \n",
    "              'Canada':'North America', \n",
    "              'Germany':'Europe', \n",
    "              'India':'Asia',\n",
    "              'France':'Europe', \n",
    "              'South Korea':'Asia', \n",
    "              'Italy':'Europe', \n",
    "              'Spain':'Europe', \n",
    "              'Iran':'Asia',\n",
    "              'Australia':'Australia', \n",
    "              'Brazil':'South America'}\n",
    "\n",
    "TOP15['Estimated Population'] = TOP15['Energy Supply']/TOP15['Energy Supply per Capita']\n",
    "\n",
    "df = pd.DataFrame.from_dict(ContinentDict, orient='index').rename(columns={0:'Continent'})\n",
    "df = pd.merge(TOP15, df, left_index=True, right_index=True)\n",
    "\n",
    "df = df.pivot_table(index='Continent',values='Estimated Population', aggfunc= [np.size, np.sum,np.mean, np.std])\n",
    "\n",
    "\n",
    "df\n",
    "\n",
    "\n"
   ]
  }
 ],
 "metadata": {
  "anaconda-cloud": {},
  "coursera": {
   "course_slug": "python-data-analysis",
   "graded_item_id": "zAr06",
   "launcher_item_id": "KSSjT",
   "part_id": "SL3fU"
  },
  "kernelspec": {
   "display_name": "Python 3",
   "language": "python",
   "name": "python3"
  },
  "language_info": {
   "codemirror_mode": {
    "name": "ipython",
    "version": 3
   },
   "file_extension": ".py",
   "mimetype": "text/x-python",
   "name": "python",
   "nbconvert_exporter": "python",
   "pygments_lexer": "ipython3",
   "version": "3.7.7"
  },
  "umich": {
   "id": "Assignment 3",
   "version": "1.5"
  }
 },
 "nbformat": 4,
 "nbformat_minor": 1
}
