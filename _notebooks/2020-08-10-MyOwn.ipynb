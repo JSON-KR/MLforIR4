{
 "cells": [
  {
   "cell_type": "markdown",
   "metadata": {},
   "source": [
    "# My Own Curriculum for Machine Learning\n",
    "> Machine learning is getting bigger and bigger. But how can we learn machine learning without going to a graduate school? Hers is the curriculum I created to answer the question.\n",
    "\n",
    "- toc: true \n",
    "- badges: true\n",
    "- comments: true\n",
    "- categories: [Machine Learning]\n",
    "- image: images/2020-08-10-MyOwn/Thumbnail.png"
   ]
  },
  {
   "cell_type": "markdown",
   "metadata": {},
   "source": [
    "# Motivation\n",
    "> The Rise of Machine Learning and Artificial Intelligence\n",
    "\n",
    "It was 2016 that the power of machine learning has been deeply engraved in my mind when AlphaGo defeated Lee Sedol, one of the greatest GO champions in the world, and proved that the recent advance of artificial intelligence could outperform the human intelligence. It certainly did shake up the world and inspired many scientists, engineers, entrepreneurs, ecomist and so on in multifarious fields to attempt to apply the state-of-the-art machine learning technologies to their own domain.\n",
    "\n",
    "> Don't be afraid to give up the good to go for the great (John D. Rockefeller)\n",
    "\n",
    "Despite the skyrocketting popularity of machine learning, I could not take the first step to learn machine learning. As an excuse, I was too afraid of challenges in a new field, thought I was too late for learning new stuffs as I was studying for my masters degree for mechanical engineering. I really belived that machine learning is going to be huge in the future (it already is), but found myself keep procrastinating with the excuse that I had created in my mind. But one day, I was able to overcome the excuse, thanks to the quote by John D. Rockefeller: **\"Don't be affraid to give up the good to go for the great\"**. \n",
    "\n",
    "It was me that making me hesitated to learn machine learning, confining myself only within the domain that I stuided in the Uni **(The good)**. \n",
    "\n",
    "> Do I need a masters or PhD to apply machine learning to my own domain?\n",
    "\n",
    "contents\n",
    "\n",
    "> So I decided to build-up my own curriculum"
   ]
  },
  {
   "cell_type": "code",
   "execution_count": null,
   "metadata": {},
   "outputs": [],
   "source": []
  }
 ],
 "metadata": {
  "kernelspec": {
   "display_name": "Python 3",
   "language": "python",
   "name": "python3"
  },
  "language_info": {
   "codemirror_mode": {
    "name": "ipython",
    "version": 3
   },
   "file_extension": ".py",
   "mimetype": "text/x-python",
   "name": "python",
   "nbconvert_exporter": "python",
   "pygments_lexer": "ipython3",
   "version": "3.7.7"
  }
 },
 "nbformat": 4,
 "nbformat_minor": 4
}
