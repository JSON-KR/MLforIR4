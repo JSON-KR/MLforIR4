{
 "cells": [
  {
   "cell_type": "markdown",
   "metadata": {},
   "source": [
    "# My Own Curriculum for Machine Learning\n",
    "> Machine learning is getting bigger and bigger. But how can we learn machine learning without going to a graduate school? Hers is the curriculum I created to answer the question.\n",
    "\n",
    "- toc: true \n",
    "- badges: true\n",
    "- comments: true\n",
    "- categories: [Machine Learning]\n",
    "- image: images/2020-08-10-MyOwn/Thumbnail.png"
   ]
  },
  {
   "cell_type": "markdown",
   "metadata": {},
   "source": [
    "# Motivation\n",
    "> ### The Rise of Machine Learning and Artificial Intelligence\n",
    "\n",
    "It was 2016 that the power of machine learning has been deeply engraved in my mind when AlphaGo defeated Lee Sedol, one of the greatest GO champions in the world, and proved that the recent advancements in AI could outperform the human intelligence. It certainly did shake up the world and inspired many scientists, engineers, entrepreneurs, economist and so on in multifarious fields to attempt to apply the state-of-the-art machine learning technologies to their own domain.\n",
    "\n",
    "\n",
    "> ### Don't Limit Yourself From Learning New Stuffs\n",
    "\n",
    "Despite the skyrocketing popularity of machine learning, I could not take the first step to learn it. As an excuse, I thought it was too late to learn new stuffs since data science, computer science or any of those machine learning related fields were not my expertise. I had already had my own career plans, and I was afraid of sudden changes of them, so I wanted to just stay inside my comfort zone. I really believed that machine learning is going to be huge in the future (it already is), but found myself keep procrastinating with the excuse I had created.\n",
    "\n",
    "But one day, I was able to get rid of the excuse, thanks to the quote by John D. Rockefeller:  **\"Don't be afraid to give up the good to go for the great\"**. It was me that making me hesitated to learn machine learning, confining myself only within the domain that I used to specialized in **(The good)**. My goal was clear: bringing innovations in manufacturing industries **(The great)**. With that in mind, I was willing to spend my free time on learning new stuffs, and trying to capitalize them on my career.\n",
    "\n",
    "\n",
    "> ### Do I need a masters or PhD to apply machine learning to my own domain?\n",
    "\n",
    "I wondered whether a degree in machine learning or data science is necessary for my purpose, and I found the answer from [a blog post](https://www.fast.ai/2017/03/01/changing-careers/) answering the questions about how to become a data-scientist. The author stated\n",
    ">\"Do I need a masters or PhD to work in AI? **I firmly believe the answer is NO**, and I’m working to make that even more of a reality than it already is. In fact, AI PhDs are often not that well-positioned to tackle practical, relevant business problems, because that is not what their training is for. Academia is focused on advancing the theoretical bounds of the field, and is motivated by what can be published in top journals\"\n",
    "\n",
    "Broadening the theoretical boundaries of AI is important. But, as we are living in the era of implementation, my goal is to utilize well-construced machine learning frameworks to practical real-world problems.  \n",
    "\n",
    "\n",
    "> ### So I decided to build-up my own curriculum"
   ]
  },
  {
   "cell_type": "markdown",
   "metadata": {},
   "source": [
    "# My Own Curriculum\n"
   ]
  }
 ],
 "metadata": {
  "kernelspec": {
   "display_name": "Python 3",
   "language": "python",
   "name": "python3"
  },
  "language_info": {
   "codemirror_mode": {
    "name": "ipython",
    "version": 3
   },
   "file_extension": ".py",
   "mimetype": "text/x-python",
   "name": "python",
   "nbconvert_exporter": "python",
   "pygments_lexer": "ipython3",
   "version": "3.7.7"
  }
 },
 "nbformat": 4,
 "nbformat_minor": 4
}
