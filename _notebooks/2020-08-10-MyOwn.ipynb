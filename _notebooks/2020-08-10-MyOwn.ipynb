{
 "cells": [
  {
   "cell_type": "markdown",
   "metadata": {},
   "source": [
    "# My Own Curriculum for Machine Learning\n",
    "> Machine learning is getting bigger and bigger. But how can we learn machine learning without going to a graduate school? Hers is the curriculum I created to answer the question.\n",
    "\n",
    "- toc: true \n",
    "- badges: true\n",
    "- comments: true\n",
    "- categories: [Machine Learning]\n",
    "- image: images/2020-08-10-MyOwn/Thumbnail.png"
   ]
  },
  {
   "cell_type": "markdown",
   "metadata": {},
   "source": [
    "# Motivation\n",
    "\n",
    "\n",
    "> The Rise of Machine Learning and Artificial Intelligence\n",
    "\n",
    "It was 2016 that the power of machine learning has been deeply engraved in my mind when AlphaGo defeated Lee Sedol, one of the greatest GO champions in the world, and proved that the recent advancements in AI could outperform the human intelligence. It certainly did shake up the world and inspired many scientists, engineers, entrepreneurs, economist and so on in multifarious fields to attempt to apply the state-of-the-art machine learning technologies to their own domain.\n",
    "\n",
    "> Don't Limit Yourself From Learning New Stuffs  \n",
    "\n",
    "Despite the skyrocketing popularity of machine learning, I could not take the first step to learn it. As an excuse, I thought it was too late to learn new stuffs since data science, computer science or any of those machine learning related fields were not my expertise. I had already had my own career plans, and I was afraid of sudden changes of them, so I wanted to just stay inside my comfort zone. I really believed that machine learning is going to be huge in the future (it already is), but found myself keep procrastinating with the excuse I had created.  \n",
    "   \n",
    "But one day, I was able to get rid of the excuse, thanks to the quote by John D. Rockefeller:  **\"Don't be afraid to give up the good to go for the great\"**. It was me that making me hesitated to learn machine learning, confining myself only within the domain that I used to specialized in **(The good)**. My goal was clear: bringing innovations in manufacturing industries **(The great)**. With that in mind, I was willing to spend my free time on learning new stuffs, and trying to capitalize them on my career.  \n",
    "\n",
    "> Do I need a masters or PhD to apply machine learning to my own domain?\n",
    "\n",
    "I wondered whether a degree in machine learning or data science is necessary for my purpose, and I found the answer from [a blog post](https://www.fast.ai/2017/03/01/changing-careers/) answering the questions about how to become a data-scientist. The author stated \"Do I need a masters or PhD to work in AI? **I firmly believe the answer is NO** ... AI PhDs are often not that well-positioned to tackle practical, relevant business problems, because that is not what their training is for.\". Broadening the theoretical boundaries of AI is important. But, as we are living in the era of implementation, my goal is more of utilizing well-constructed machine learning frameworks to practical real-world problems.  "
   ]
  },
  {
   "cell_type": "markdown",
   "metadata": {},
   "source": [
    "> So I decided to build-up my own curriculum\n",
    "\n",
    "One of the references that inspired me the most is Daniel Bourke's [blog](https://www.mrdbourke.com/) and [YouTube channel](https://www.youtube.com/channel/UCr8O8l5cCX85Oem1d18EezQ). He is a highly motivated and passionate guy who has been taking the journey of learning AI, started from no programming background. Inspired by one of his [post](https://www.mrdbourke.com/aimastersdegree/) about self-created curriculum, I have created my curriculum to organize my study in a more structured way. "
   ]
  },
  {
   "cell_type": "markdown",
   "metadata": {},
   "source": [
    "# My Curriculum\n",
    ":large_blue_circle: = Completed  \n",
    ":red_circle: = On progress"
   ]
  },
  {
   "cell_type": "markdown",
   "metadata": {},
   "source": [
    "### Goals\n",
    "**Applying ML technologies to my own domain to create innovative solutions**\n",
    "- Theoretical understanding of ML algorithms\n",
    "- Mathematics skills (linear algebra, statistics, optimization, probability)\n",
    "- Python programming\n",
    "- ML and data science libraries (Pandas, Scikit-learn, TensorFlow, PyTorch)\n",
    "- Overall ML process\n",
    "- Turn latest ML research papers into code\n",
    "- Data crawling\n",
    "- Data pre/post-processing\n",
    "- Cloud computing (Amazon AWS, Google Cloud Platform)\n",
    "- Ideas of where and how to implement ML technologies to my domain knowlege\n"
   ]
  },
  {
   "cell_type": "markdown",
   "metadata": {},
   "source": [
    "### Courses\n",
    "**On Coursera**\n",
    "- :large_blue_circle: [Introduction to Data Science in Python](https://www.coursera.org/learn/python-data-analysis/home/welcome)\n",
    "    - Python programming, data science libraries, data pre/post-processing\n",
    "- :large_blue_circle: [Applied Plotting, Charting & Data Representation in Python](https://www.coursera.org/learn/python-plotting/home/welcome)\n",
    "    - Python programming, data science libraries, data pre/post-processing\n",
    "- :large_blue_circle: [Applied Machine Learning in Python](https://www.coursera.org/learn/python-machine-learning/home/welcome)\n",
    "    - Python programming, ML algorithms, ML libraries, Overall ML process\n",
    "- :large_blue_circle: [Applied Text Mining in Python](https://www.coursera.org/learn/python-text-mining/home/welcome)\n",
    "    - Python programming, ML libraries\n",
    "- :large_blue_circle: [Getting started with TensorFlow 2](https://www.coursera.org/learn/getting-started-with-tensor-flow2/home/welcome)\n",
    "    - Python programming, ML libraries\n",
    "- :large_blue_circle: [Deep Learning for Business](https://www.coursera.org/learn/deep-learning-business/home/welcome)\n",
    "    - ML algorithms, ML applications\n",
    "- :large_blue_circle: [Using Python to Access Web Data](https://www.coursera.org/learn/python-network-data?)\n",
    "    - Python programming, Data crawling\n",
    "- :large_blue_circle: [Machine Learning by Andrew Ng](https://www.coursera.org/learn/machine-learning)\n",
    "    - ML algorithms, Overall ML process\n",
    "\n",
    "- :red_circle: [Customising your models with TensorFlow 2](https://www.coursera.org/learn/customising-models-tensorflow2/home/welcome)\n",
    "    - Python programming, ML libraries\n",
    "- :red_circle: [Mathematics for Machine Learning: Linear Algebra](https://www.coursera.org/learn/customising-models-tensorflow2/home/welcome)\n",
    "    - Mathematics skills, ML algorithms\n",
    "- :red_circle: [Mathematics for Machine Learning: Multivariate Calculus](https://www.coursera.org/learn/multivariate-calculus-machine-learning)\n",
    "    - Mathematics skills, ML algorithms\n",
    "- :red_circle: [Mathematics for Machine Learning: PCA](https://www.coursera.org/learn/pca-machine-learning)\n",
    "    - Mathematics skills, ML algorithms\n",
    "- :red_circle: [Machine Learning with TensorFlow on Google Cloud Platform Specialization](https://www.coursera.org/specializations/machine-learning-tensorflow-gcp#courses)\n",
    "    - Cloud computing\n",
    "\n",
    "**Other Resources**\n",
    "- :red_circle: [Deep Learning Zero to All by Prof. Sunghun Kim](https://hunkim.github.io/ml/)\n",
    "    - ML libraries, ML algorithms\n",
    "- :red_circle: [Deep Learning Zero to All 2 by Prof. Sunghun Kim](https://deeplearningzerotoall.github.io/season2/)\n",
    "    - ML libraries, ML algorithms\n",
    "- :red_circle: [Stanford University Open Courses](https://www.youtube.com/playlist?list=PL3FW7Lu3i5JvHM8ljYj-zLfQRF3EO8sYv)\n",
    "    - ML libraries, ML algorithms"
   ]
  },
  {
   "cell_type": "markdown",
   "metadata": {},
   "source": [
    "### Books\n",
    "- :large_blue_circle: [Introduction to Machine Learning with Python](https://www.oreilly.com/library/view/introduction-to-machine/9781449369880/)\n",
    "- :red_circle: [Hands-On Machine Learning with Scikit-learn & TensorFlow](https://www.oreilly.com/library/view/hands-on-machine-learning/9781492032632/)"
   ]
  },
  {
   "cell_type": "markdown",
   "metadata": {},
   "source": [
    "This curriculum is under construction, so if you have any advice or comment on this page, please [email me](mailto:bemba@naver.com) :) "
   ]
  }
 ],
 "metadata": {
  "kernelspec": {
   "display_name": "Python 3",
   "language": "python",
   "name": "python3"
  },
  "language_info": {
   "codemirror_mode": {
    "name": "ipython",
    "version": 3
   },
   "file_extension": ".py",
   "mimetype": "text/x-python",
   "name": "python",
   "nbconvert_exporter": "python",
   "pygments_lexer": "ipython3",
   "version": "3.7.7"
  }
 },
 "nbformat": 4,
 "nbformat_minor": 4
}
